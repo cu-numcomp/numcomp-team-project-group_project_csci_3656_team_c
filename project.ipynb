{
 "cells": [
  {
   "cell_type": "markdown",
   "metadata": {},
   "source": [
    "# Project: **Name of method** in **name of software**\n",
    "\n",
    "## Group members\n",
    "* Luke Conley Bakken - \\<contribution\\>\n",
    "* Alison Kessenich - \\<contribution\\>\n",
    "* Noah Lane - \\<contribution\\>\n",
    "* Dennis Nguyen - \\<contribution\\>\n",
    "\n",
    "This notebook is a blank slate for you to write in.  Feel free to include figures (don't forget to add/commit them to your repository) and examples.  You can change the kernel (from `Python 3`; see upper right) if the open source project you're writing about does not use Python.  You can write from the prompts below or delete all the cells and start fresh.  Note that Git will always contain your history.\n",
    "\n",
    "You can run shell commands:"
   ]
  },
  {
   "cell_type": "code",
   "execution_count": 1,
   "metadata": {},
   "outputs": [
    {
     "name": "stdout",
     "output_type": "stream",
     "text": [
      "project.ipynb  README.md  RootFinding\n"
     ]
    }
   ],
   "source": [
    "! ls"
   ]
  },
  {
   "cell_type": "markdown",
   "metadata": {},
   "source": [
    "and include code snippets\n",
    "\n",
    "```c\n",
    "double square(double x) {\n",
    "    return x*x;\n",
    "}\n",
    "```\n",
    "or code cells"
   ]
  },
  {
   "cell_type": "code",
   "execution_count": 2,
   "metadata": {},
   "outputs": [
    {
     "name": "stdout",
     "output_type": "stream",
     "text": [
      "square(3) = 9\n"
     ]
    }
   ],
   "source": [
    "def square(x):\n",
    "    return x*x\n",
    "\n",
    "print(f'square(3) = {square(3)}')"
   ]
  },
  {
   "cell_type": "markdown",
   "metadata": {},
   "source": [
    "The following prompts may be useful, but you don't have to use them.\n",
    "\n",
    "## Introduction\n",
    "\n",
    "Describe the objective of your study, citing prior work as appropriate (papers, websites, etc.).  There is no requirement on citation style, but please try to be consistent.\n",
    "\n",
    "## Methods\n",
    "\n",
    "## Results and interpretation\n",
    "\n",
    "## Conclusions and open questions"
   ]
  },
  {
   "cell_type": "code",
   "execution_count": 10,
   "metadata": {},
   "outputs": [
    {
     "name": "stdout",
     "output_type": "stream",
     "text": [
      "fatal: destination path 'RootFinding' already exists and is not an empty directory.\n"
     ]
    }
   ],
   "source": [
    "! git clone https://github.com/tylerjarvis/RootFinding"
   ]
  },
  {
   "cell_type": "code",
   "execution_count": 11,
   "metadata": {},
   "outputs": [
    {
     "name": "stdout",
     "output_type": "stream",
     "text": [
      "Obtaining file:///home/jovyan/numcomp-class/numcomp-team-project-group_project_csci_3656_team_c/RootFinding\n",
      "Installing collected packages: RootFinding\n",
      "  Attempting uninstall: RootFinding\n",
      "    Found existing installation: RootFinding 0.1.0\n",
      "    Uninstalling RootFinding-0.1.0:\n",
      "      Successfully uninstalled RootFinding-0.1.0\n",
      "  Running setup.py develop for RootFinding\n",
      "Successfully installed RootFinding\n"
     ]
    }
   ],
   "source": [
    "! pip install -e ./RootFinding"
   ]
  },
  {
   "cell_type": "code",
   "execution_count": 10,
   "metadata": {},
   "outputs": [],
   "source": [
    "import numpy as np\n",
    "import yroots as yr\n",
    "from matplotlib import pyplot as plt"
   ]
  },
  {
   "cell_type": "code",
   "execution_count": 11,
   "metadata": {},
   "outputs": [],
   "source": [
    "%matplotlib inline"
   ]
  },
  {
   "cell_type": "markdown",
   "metadata": {},
   "source": [
    "The following is a working example of how to use polyroots to find the roots of the functions\n",
    "$$f(x,y) = y^2 + 3xy - 4x +1$$$$g(x,y) = -6xy -2x^2 + 6y +3.$$"
   ]
  },
  {
   "cell_type": "code",
   "execution_count": 12,
   "metadata": {},
   "outputs": [
    {
     "name": "stdout",
     "output_type": "stream",
     "text": [
      "CPU times: user 4.64 ms, sys: 177 µs, total: 4.82 ms\n",
      "Wall time: 3.95 ms\n"
     ]
    },
    {
     "data": {
      "text/plain": [
       "(4, 6.750155989720952e-14, 6.750155989720952e-14)"
      ]
     },
     "execution_count": 12,
     "metadata": {},
     "output_type": "execute_result"
    }
   ],
   "source": [
    "#direct construction of polynomials with coefficient tensors\n",
    "f = yr.MultiPower(np.array([[1, -4, 0],[0, 3, 0],[1, 0, 0]]))\n",
    "g = yr.MultiPower(np.array([[3, 0, -2],[6, -6, 0],[0, 0, 0]]))\n",
    "\n",
    "#solve and time\n",
    "%time roots = yr.polysolve([f,g], return_all_roots=True)\n",
    "#show the number of roots and maximal residuals\n",
    "roots.shape[0],np.max(np.abs(f(roots))),np.max(np.abs(g(roots)))"
   ]
  },
  {
   "cell_type": "code",
   "execution_count": 13,
   "metadata": {},
   "outputs": [
    {
     "name": "stderr",
     "output_type": "stream",
     "text": [
      "/opt/conda/lib/python3.7/site-packages/numpy/core/_asarray.py:85: ComplexWarning: Casting complex values to real discards the imaginary part\n",
      "  return array(a, dtype, copy=False, order=order)\n"
     ]
    },
    {
     "data": {
      "text/plain": [
       "[<matplotlib.lines.Line2D at 0x7f3866912ba8>]"
      ]
     },
     "execution_count": 13,
     "metadata": {},
     "output_type": "execute_result"
    },
    {
     "data": {
      "image/png": "[encoded data removed]",
      "text/plain": [
       "<Figure size 432x288 with 1 Axes>"
      ]
     },
     "metadata": {
      "needs_background": "light"
     },
     "output_type": "display_data"
    }
   ],
   "source": [
    "#plot f,g and roots\n",
    "x = np.linspace(-5,5,1000)\n",
    "y = np.linspace(-10,10,1000)\n",
    "X,Y = np.meshgrid(x,y)\n",
    "plt.contour(X,Y,f(np.array(list(zip(X,Y)))),levels=[0],colors='#003cff')\n",
    "plt.contour(X,Y,g(np.array(list(zip(X,Y)))),levels=[0],colors='k')\n",
    "plt.plot(roots[:,0],roots[:,1],'o',color='none',markeredgecolor='r',markersize=10)"
   ]
  },
  {
   "cell_type": "markdown",
   "metadata": {},
   "source": [
    "Now, the goal is to make polysolve not solve correctly. The function is stated to be unstable when the absolute value of each coordinate is less than 1. "
   ]
  },
  {
   "cell_type": "code",
   "execution_count": null,
   "metadata": {},
   "outputs": [],
   "source": []
  }
 ],
 "metadata": {
  "kernelspec": {
   "display_name": "Python 3",
   "language": "python",
   "name": "python3"
  },
  "language_info": {
   "codemirror_mode": {
    "name": "ipython",
    "version": 3
   },
   "file_extension": ".py",
   "mimetype": "text/x-python",
   "name": "python",
   "nbconvert_exporter": "python",
   "pygments_lexer": "ipython3",
   "version": "3.7.3"
  }
 },
 "nbformat": 4,
 "nbformat_minor": 4
}
